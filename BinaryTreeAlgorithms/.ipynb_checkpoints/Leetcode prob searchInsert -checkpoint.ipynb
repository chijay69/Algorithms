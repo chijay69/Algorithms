{
 "cells": [
  {
   "cell_type": "code",
   "execution_count": 1,
   "id": "6f014a0c",
   "metadata": {},
   "outputs": [],
   "source": [
    "def firstBadVersion(self, n: int) -> int: \n",
    "    l, r, bad = 1, n, n \n",
    "    while (r - l) >= 0: \n",
    "        if isBadVersion((l + r) // 2): \n",
    "            bad = (l + r) // 2 \n",
    "            r = (l + r) // 2 - 1 \n",
    "        else: \n",
    "            l = (l + r) // 2 + 1 \n",
    "    return bad"
   ]
  },
  {
   "cell_type": "code",
   "execution_count": 2,
   "id": "cd460272",
   "metadata": {},
   "outputs": [],
   "source": [
    "nums =[1,3]\n",
    "target = 2\n",
    "# mid1 = 2 I.e nums [2] = 3\n",
    "# this is lesser than target so l = mid +1 I.e 2+1=3\n",
    "# nums = [4,6]\n",
    "# mid2 = 0, I.e nums[0]=4 \n",
    "# lesser than target so l= 0 +1=1\n",
    "# nums =[6]\n",
    "# this is higher than target so r = mid -1, I.e 0 -1 =-1\n",
    "# this ends the loop value not found "
   ]
  },
  {
   "cell_type": "code",
   "execution_count": 3,
   "id": "22647775",
   "metadata": {},
   "outputs": [],
   "source": [
    "# write a func to compare the target and upper bounds value \n",
    "# and lower bounds \n",
    "def compare(nums, ind, target):\n",
    "    if ((nums [ind] - target) < 0) and ((nums [ind+1] - target) > 0):\n",
    "        print (f\"target {target} is between {nums[ind]} and {nums[ind+1]}\")\n",
    "        a = ind+1\n",
    "        print (\"ans = \",a)\n",
    "        return a\n",
    "    elif nums[ind] == nums[0]:\n",
    "        print (\"2nd if statement \")\n",
    "        a = 0\n",
    "        return a"
   ]
  },
  {
   "cell_type": "code",
   "execution_count": 4,
   "id": "1699c69b",
   "metadata": {},
   "outputs": [],
   "source": [
    "def searchInsert (nums, target):\n",
    "    l = 0\n",
    "    r = len(nums)-1\n",
    "    a = -1\n",
    "    try:\n",
    "        print (\"passed\")\n",
    "        while l<=r:\n",
    "            mid = (l + r)//2\n",
    "            if nums [mid] == target:\n",
    "                print (\"midpoint is \", mid)\n",
    "                return mid \n",
    "            elif nums [mid]<target:\n",
    "                print (\"moved right \")\n",
    "                l = mid +1\n",
    "            else:\n",
    "                print (\"moved left\")\n",
    "                r = mid-1\n",
    "            ans = compare (nums,  mid,  target)\n",
    "            print (ans)\n",
    "            if ans:\n",
    "                break \n",
    "        return ans\n",
    "    except IndexError:\n",
    "        return len(nums)"
   ]
  },
  {
   "cell_type": "code",
   "execution_count": 5,
   "id": "6995f2cc",
   "metadata": {},
   "outputs": [
    {
     "name": "stdout",
     "output_type": "stream",
     "text": [
      "passed\n",
      "moved right \n",
      "target 2 is between 1 and 3\n",
      "ans =  1\n",
      "1\n"
     ]
    },
    {
     "data": {
      "text/plain": [
       "1"
      ]
     },
     "execution_count": 5,
     "metadata": {},
     "output_type": "execute_result"
    }
   ],
   "source": [
    "searchInsert (nums, target )"
   ]
  },
  {
   "cell_type": "code",
   "execution_count": null,
   "id": "1e6c548b",
   "metadata": {},
   "outputs": [],
   "source": []
  }
 ],
 "metadata": {
  "kernelspec": {
   "display_name": "Python 3 (ipykernel)",
   "language": "python",
   "name": "python3"
  },
  "language_info": {
   "codemirror_mode": {
    "name": "ipython",
    "version": 3
   },
   "file_extension": ".py",
   "mimetype": "text/x-python",
   "name": "python",
   "nbconvert_exporter": "python",
   "pygments_lexer": "ipython3",
   "version": "3.10.2"
  }
 },
 "nbformat": 4,
 "nbformat_minor": 5
}
