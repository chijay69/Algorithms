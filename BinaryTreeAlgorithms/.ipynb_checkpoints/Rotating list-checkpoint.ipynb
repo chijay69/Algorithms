{
 "cells": [
  {
   "cell_type": "code",
   "execution_count": 49,
   "id": "f722d91a",
   "metadata": {},
   "outputs": [],
   "source": [
    "def rotate (k, nums): # takes argument \n",
    "    x = len(nums)\n",
    "    for i in range (k):\n",
    "        a = nums.pop()\n",
    "        nums.insert(0,a)\n",
    "        \n",
    "    print(nums)"
   ]
  },
  {
   "cell_type": "code",
   "execution_count": 61,
   "id": "20116e02",
   "metadata": {},
   "outputs": [],
   "source": [
    "nums = [1,2,3,4,5,6,7]\n",
    "k = 3"
   ]
  },
  {
   "cell_type": "code",
   "execution_count": 63,
   "id": "10fa9249",
   "metadata": {},
   "outputs": [],
   "source": [
    "def rotate (nums, k):\n",
    "    print ([nums.insert(0,nums.pop()) for i in range (0, k)])"
   ]
  },
  {
   "cell_type": "code",
   "execution_count": 64,
   "id": "069063bb",
   "metadata": {},
   "outputs": [
    {
     "name": "stdout",
     "output_type": "stream",
     "text": [
      "[None, None, None]\n"
     ]
    }
   ],
   "source": [
    "rotate (nums, k)"
   ]
  }
 ],
 "metadata": {
  "kernelspec": {
   "display_name": "Python 3 (ipykernel)",
   "language": "python",
   "name": "python3"
  },
  "language_info": {
   "codemirror_mode": {
    "name": "ipython",
    "version": 3
   },
   "file_extension": ".py",
   "mimetype": "text/x-python",
   "name": "python",
   "nbconvert_exporter": "python",
   "pygments_lexer": "ipython3",
   "version": "3.10.4"
  }
 },
 "nbformat": 4,
 "nbformat_minor": 5
}
