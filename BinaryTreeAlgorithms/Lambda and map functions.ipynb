{
 "cells": [
  {
   "cell_type": "code",
   "execution_count": 56,
   "id": "3966bccf",
   "metadata": {},
   "outputs": [],
   "source": [
    "def sortedSquares(nums):\n",
    "    some = list(map(lambda x: x*x, nums))\n",
    "    return (some)"
   ]
  },
  {
   "cell_type": "code",
   "execution_count": 57,
   "id": "67d6aef9",
   "metadata": {},
   "outputs": [],
   "source": [
    "nums = [1,2,3,4]"
   ]
  },
  {
   "cell_type": "code",
   "execution_count": 58,
   "id": "06601922",
   "metadata": {},
   "outputs": [],
   "source": [
    "squares = sortedSquares(nums)"
   ]
  },
  {
   "cell_type": "code",
   "execution_count": 59,
   "id": "14db3ab8",
   "metadata": {},
   "outputs": [
    {
     "name": "stdout",
     "output_type": "stream",
     "text": [
      "[1, 4, 9, 16]\n"
     ]
    }
   ],
   "source": [
    "print(squares)"
   ]
  }
 ],
 "metadata": {
  "kernelspec": {
   "display_name": "Python 3 (ipykernel)",
   "language": "python",
   "name": "python3"
  },
  "language_info": {
   "codemirror_mode": {
    "name": "ipython",
    "version": 3
   },
   "file_extension": ".py",
   "mimetype": "text/x-python",
   "name": "python",
   "nbconvert_exporter": "python",
   "pygments_lexer": "ipython3",
   "version": "3.10.2"
  }
 },
 "nbformat": 4,
 "nbformat_minor": 5
}
